{
 "cells": [
  {
   "cell_type": "markdown",
   "metadata": {},
   "source": [
    "# Auricular shape analysis - age prediction"
   ]
  },
  {
   "cell_type": "code",
   "execution_count": null,
   "metadata": {},
   "outputs": [],
   "source": [
    "%load_ext autoreload\n",
    "%autoreload 2\n",
    "\n",
    "import logging\n",
    "import os\n",
    "import sys\n",
    "import numpy as np\n",
    "import matplotlib.pyplot as plt\n",
    "import pandas as pd\n",
    "import trimesh\n",
    "from PIL import Image\n",
    "from scipy.ndimage import distance_transform_edt, binary_fill_holes"
   ]
  },
  {
   "cell_type": "code",
   "execution_count": null,
   "metadata": {},
   "outputs": [],
   "source": [
    "sys.path.append(\"/home/vajicek/src/aurikular/shapeexplorer\")\n",
    "\n",
    "from projects.auricular.projection import computeHeightmap, regularSampling, getDistanceToEdge\n",
    "from projects.auricular.curvaturedescriptors import CurvatureDescriptorsParams\n",
    "from projects.auricular.curvaturedescriptors import CurvatureDescriptors\n",
    "from projects.auricular.curvaturedescriptors import HistogramDescriptors\n",
    "from projects.auricular.curvaturedescriptors import ModelAnalysis\n",
    "from projects.auricular.common import getSample"
   ]
  },
  {
   "cell_type": "code",
   "execution_count": null,
   "metadata": {},
   "outputs": [],
   "source": [
    "input_data = os.path.expanduser(\"~/data/aurikularni_plocha_ply5/\")\n",
    "sample = list(getSample(input_data))\n",
    "params = CurvatureDescriptorsParams(\n",
    "    input_data=input_data,\n",
    "    sampling_method='regular',\n",
    "    dist=1.0,\n",
    "    sampling_rate=0.5,\n",
    "    sample_count=5000,\n",
    "    output='../../../output_812')\n",
    "cd = CurvatureDescriptors(params)"
   ]
  },
  {
   "cell_type": "code",
   "execution_count": null,
   "metadata": {},
   "outputs": [],
   "source": [
    "data = cd.getData()\n",
    "hist_descriptors = {\n",
    "    0.5: HistogramDescriptors(data, 0.5),\n",
    "    1.0: HistogramDescriptors(data, 1.0),\n",
    "    2.0: HistogramDescriptors(data, 2.0)\n",
    "}"
   ]
  },
  {
   "cell_type": "markdown",
   "metadata": {},
   "source": [
    "## Prediction"
   ]
  },
  {
   "cell_type": "markdown",
   "metadata": {},
   "source": [
    "### age x mean dne"
   ]
  },
  {
   "cell_type": "code",
   "execution_count": null,
   "metadata": {},
   "outputs": [],
   "source": [
    "from sklearn.linear_model import LinearRegression\n",
    "from sklearn.svm import SVR\n",
    "from sklearn.svm import LinearSVR\n",
    "\n",
    "from projects.auricular.analyze import evaluateAllModels"
   ]
  },
  {
   "cell_type": "code",
   "execution_count": null,
   "metadata": {},
   "outputs": [],
   "source": [
    "df = pd.DataFrame(data=[[\n",
    "                    float(data1['age']),\n",
    "                    np.log(float(data1['age'])),\n",
    "                    float(data1['dist'][1.0]['sampled_dne'])] for data1 in data],\n",
    "                  columns = ['age', 'logAge', 'dne'])\n",
    "\n",
    "r = evaluateAllModels(df, indeps=[['dne']], dep=['logAge'], model=LinearRegression())\n",
    "pd.DataFrame(r)"
   ]
  },
  {
   "cell_type": "markdown",
   "metadata": {},
   "source": [
    "### age x vector dne"
   ]
  },
  {
   "cell_type": "code",
   "execution_count": null,
   "metadata": {},
   "outputs": [],
   "source": [
    "pd.DataFrame(hist_descriptors[0.5].getSampleHistogramData(3)[0]).plot.bar()\n",
    "pd.DataFrame(hist_descriptors[0.5].getSampleHistogramData(3)[249]).plot.bar()\n",
    "pd.DataFrame(hist_descriptors[0.5].getSampleHistogramData(3)[498]).plot.bar();"
   ]
  },
  {
   "cell_type": "code",
   "execution_count": null,
   "metadata": {},
   "outputs": [],
   "source": [
    "ma=ModelAnalysis(data, 'dist_curv')"
   ]
  },
  {
   "cell_type": "code",
   "execution_count": null,
   "metadata": {},
   "outputs": [],
   "source": [
    "ma.twoParamPlot(1.0)"
   ]
  },
  {
   "cell_type": "code",
   "execution_count": null,
   "metadata": {},
   "outputs": [],
   "source": [
    "ma.modelForBins(3, None, 1.0, model=SVR(), normalize_dist=False)"
   ]
  },
  {
   "cell_type": "code",
   "execution_count": null,
   "metadata": {},
   "outputs": [],
   "source": [
    "ma.modelForBins(3, [[0, 2]], 1.0)"
   ]
  },
  {
   "cell_type": "code",
   "execution_count": null,
   "metadata": {},
   "outputs": [],
   "source": [
    "ma.modelForBins(3, [[0, 1]], 1.0)"
   ]
  },
  {
   "cell_type": "code",
   "execution_count": null,
   "metadata": {},
   "outputs": [],
   "source": [
    "ma.plotRmsePerBins(list(ma.binsRmse(2.0)))"
   ]
  },
  {
   "cell_type": "code",
   "execution_count": null,
   "metadata": {},
   "outputs": [],
   "source": [
    "ma.plotRmsePerBins(list(ma.binsRmse(1.0, model=SVR())))"
   ]
  },
  {
   "cell_type": "code",
   "execution_count": null,
   "metadata": {},
   "outputs": [],
   "source": [
    "ma.plotRmsePerBins(list(ma.binsRmse(model=LinearSVR())))"
   ]
  },
  {
   "cell_type": "code",
   "execution_count": null,
   "metadata": {},
   "outputs": [],
   "source": [
    "ma.compareMethods(2.0)"
   ]
  },
  {
   "cell_type": "code",
   "execution_count": null,
   "metadata": {},
   "outputs": [],
   "source": [
    "ma.compareMethods(1.0)"
   ]
  },
  {
   "cell_type": "code",
   "execution_count": null,
   "metadata": {},
   "outputs": [],
   "source": [
    "ma.compareMethods(0.5)"
   ]
  },
  {
   "cell_type": "markdown",
   "metadata": {},
   "source": [
    "## Neural network"
   ]
  },
  {
   "cell_type": "code",
   "execution_count": null,
   "metadata": {},
   "outputs": [],
   "source": [
    "import tensorflow as tf\n",
    "from tensorflow import keras\n",
    "from keras.models import Sequential\n",
    "from keras.layers import Dense\n",
    "from keras.wrappers.scikit_learn import KerasRegressor\n",
    "from sklearn.model_selection import cross_val_score, train_test_split\n",
    "from sklearn.model_selection import KFold\n",
    "from sklearn.preprocessing import StandardScaler\n",
    "from sklearn.pipeline import Pipeline\n",
    "from sklearn.metrics import mean_squared_error"
   ]
  },
  {
   "cell_type": "code",
   "execution_count": null,
   "metadata": {},
   "outputs": [],
   "source": [
    "dist=1.0\n",
    "bins=10\n",
    "\n",
    "Y = pd.DataFrame([np.log(float(data1['age'])) for data1 in data]).values\n",
    "X = pd.DataFrame(ma.hist_descriptors[dist].getSampleHistogram2dData(bins, True, True)).values\n",
    "#X = pd.DataFrame(hist_descriptors[dist].getSampleHistogramData(bins)).values"
   ]
  },
  {
   "cell_type": "code",
   "execution_count": null,
   "metadata": {},
   "outputs": [],
   "source": [
    "inputs = X.shape[1]\n",
    "def baselineModel():\n",
    "    model = keras.Sequential()\n",
    "    model.add(Dense(inputs,\n",
    "                    input_dim=inputs,\n",
    "                    kernel_initializer='he_normal', \n",
    "                    activation='relu'))\n",
    "    model.add(Dense(inputs, kernel_initializer='he_normal', activation='relu'))\n",
    "    model.add(Dense(inputs, kernel_initializer='he_normal', activation='relu'))\n",
    "    model.add(Dense(1))\n",
    "    model.compile(optimizer=keras.optimizers.Adam(learning_rate=0.00005,\n",
    "                                                  beta_1=0.95,\n",
    "                                                  beta_2=0.9995),\n",
    "                  loss='mean_squared_error')\n",
    "    return model"
   ]
  },
  {
   "cell_type": "code",
   "execution_count": null,
   "metadata": {},
   "outputs": [],
   "source": [
    "X_train, X_test, y_train, y_test = train_test_split(X, Y, test_size=0.2, random_state=None)\n",
    "\n",
    "# scaler = StandardScaler()\n",
    "# X_train = scaler.fit_transform(X_train)\n",
    "# X_test = scaler.transform(X_test)\n",
    "\n",
    "model = baselineModel()\n",
    "model.fit(X_train, y_train,\n",
    "          use_multiprocessing=True,\n",
    "          epochs=250,\n",
    "          batch_size=10,\n",
    "          validation_data=(X_test, y_test))"
   ]
  },
  {
   "cell_type": "code",
   "execution_count": null,
   "metadata": {},
   "outputs": [],
   "source": [
    "predictions = model.predict(X_test)\n",
    "np.sqrt(mean_squared_error(np.exp(predictions), np.exp(y_test)))\n",
    "\n",
    "#np.exp(model.evaluate(X_test, y_test))"
   ]
  },
  {
   "cell_type": "code",
   "execution_count": null,
   "metadata": {},
   "outputs": [],
   "source": [
    "model.evaluate(X_test, y_test)\n",
    "#y_test"
   ]
  },
  {
   "cell_type": "code",
   "execution_count": null,
   "metadata": {},
   "outputs": [],
   "source": [
    "def evaluatePipeline(X, Y):   \n",
    "    estimators = []\n",
    "    estimators.append(('standardize', StandardScaler()))\n",
    "    estimators.append(('mlp', KerasRegressor(build_fn=baselineModel,\n",
    "                                      epochs=1000,\n",
    "                                      batch_size=20,\n",
    "                                      verbose=0)))\n",
    "    pipeline = Pipeline(estimators)\n",
    "\n",
    "    kf = KFold(n_splits=10, shuffle=True)\n",
    "    fold_rmse = []\n",
    "    predicted = np.array([])\n",
    "    predicted_indices = np.array([])\n",
    "    for train_index, test_index in kf.split(X):\n",
    "        X_train = X[train_index]\n",
    "        X_test = X[test_index]\n",
    "        y_train = Y[train_index]\n",
    "        y_test = Y[test_index]\n",
    "        pipeline.fit(X_train, y_train)\n",
    "        predictions = pipeline.predict(X_test)\n",
    "        rmse = np.sqrt(mean_squared_error(np.exp(predictions), np.exp(y_test)))\n",
    "        fold_rmse += [rmse]\n",
    "        print(rmse)\n",
    "        predicted = np.append(predicted, predictions)\n",
    "        predicted_indices = np.append(predicted_indices, test_index)\n",
    "\n",
    "    return np.mean(fold_rmse), predicted, predicted_indices"
   ]
  },
  {
   "cell_type": "code",
   "execution_count": null,
   "metadata": {},
   "outputs": [],
   "source": [
    "X = pd.DataFrame(hist_descriptors[dist].getSampleHistogramData(bins)).values\n",
    "result_curv = evaluatePipeline(X, Y)"
   ]
  },
  {
   "cell_type": "code",
   "execution_count": null,
   "metadata": {},
   "outputs": [],
   "source": [
    "X = pd.DataFrame(ma.hist_descriptors[dist].getSampleHistogram2dData(bins, True, True)).values\n",
    "result_curv_dist = evaluatePipeline(X, Y)"
   ]
  },
  {
   "cell_type": "code",
   "execution_count": null,
   "metadata": {},
   "outputs": [],
   "source": [
    "rmse, predicted, predicted_indices = result_curv_dist\n",
    "rmse"
   ]
  },
  {
   "cell_type": "code",
   "execution_count": null,
   "metadata": {},
   "outputs": [],
   "source": [
    "fig, ax = plt.subplots(figsize=(15,15))\n",
    "plt.scatter(np.exp(Y[predicted_indices.astype(int)]), np.exp(predicted))\n",
    "plt.xlabel(\"actual\")\n",
    "plt.ylabel(\"predicted\")\n",
    "plt.plot([20, 100], [20, 100], color=\"black\", linewidth=1);"
   ]
  }
 ],
 "metadata": {
  "kernelspec": {
   "display_name": "Python 3",
   "language": "python",
   "name": "python3"
  },
  "language_info": {
   "codemirror_mode": {
    "name": "ipython",
    "version": 3
   },
   "file_extension": ".py",
   "mimetype": "text/x-python",
   "name": "python",
   "nbconvert_exporter": "python",
   "pygments_lexer": "ipython3",
   "version": "3.8.5"
  }
 },
 "nbformat": 4,
 "nbformat_minor": 4
}
