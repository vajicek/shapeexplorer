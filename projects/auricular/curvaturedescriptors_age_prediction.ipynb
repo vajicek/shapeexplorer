{
 "cells": [
  {
   "cell_type": "markdown",
   "metadata": {},
   "source": [
    "# Auricular shape analysis - age prediction"
   ]
  },
  {
   "cell_type": "code",
   "execution_count": null,
   "metadata": {},
   "outputs": [],
   "source": [
    "%load_ext autoreload\n",
    "%autoreload 2\n",
    "\n",
    "import logging\n",
    "import os\n",
    "import time\n",
    "import sys\n",
    "import numpy as np\n",
    "import matplotlib.pyplot as plt\n",
    "import pandas as pd"
   ]
  },
  {
   "cell_type": "code",
   "execution_count": null,
   "metadata": {},
   "outputs": [],
   "source": [
    "sys.path.append(\"../..\")\n",
    "\n",
    "from projects.auricular.curvaturedescriptors import CurvatureDescriptorsParams\n",
    "from projects.auricular.curvaturedescriptors import CurvatureDescriptors\n",
    "from projects.auricular.curvaturedescriptors import HistogramDescriptors\n",
    "from projects.auricular.analyze import ModelAnalysis\n",
    "from projects.auricular.common import getSample"
   ]
  },
  {
   "cell_type": "code",
   "execution_count": null,
   "metadata": {},
   "outputs": [],
   "source": [
    "input_data = os.path.expanduser(\"~/data/aurikularni_plocha_ply5/\")\n",
    "sample = list(getSample(input_data))\n",
    "params = CurvatureDescriptorsParams(\n",
    "    input_data=input_data,\n",
    "    sampling_method='regular',\n",
    "    dist=1.0,\n",
    "    sampling_rate=0.5,\n",
    "    sample_count=5000,\n",
    "    output='../../../output_812')\n",
    "cd = CurvatureDescriptors(params)"
   ]
  },
  {
   "cell_type": "code",
   "execution_count": null,
   "metadata": {},
   "outputs": [],
   "source": [
    "data = cd.getData()\n",
    "hist_descriptors = {\n",
    "    0.5: HistogramDescriptors(data, 0.5),\n",
    "    1.0: HistogramDescriptors(data, 1.0),\n",
    "    2.0: HistogramDescriptors(data, 2.0)\n",
    "}"
   ]
  },
  {
   "cell_type": "markdown",
   "metadata": {},
   "source": [
    "## Prediction"
   ]
  },
  {
   "cell_type": "markdown",
   "metadata": {},
   "source": [
    "### age x mean dne"
   ]
  },
  {
   "cell_type": "code",
   "execution_count": null,
   "metadata": {},
   "outputs": [],
   "source": [
    "from sklearn.linear_model import LinearRegression\n",
    "from sklearn.svm import SVR\n",
    "from sklearn.svm import LinearSVR\n",
    "\n",
    "from projects.auricular.analyze import evaluateAllModels, ModelAnalysis"
   ]
  },
  {
   "cell_type": "code",
   "execution_count": null,
   "metadata": {},
   "outputs": [],
   "source": [
    "df = pd.DataFrame(data=[[\n",
    "                    float(data1['age']),\n",
    "                    np.log(float(data1['age'])),\n",
    "                    float(data1['dist'][1.0]['sampled_dne'])] for data1 in data],\n",
    "                  columns = ['age', 'logAge', 'dne'])\n",
    "\n",
    "r = evaluateAllModels(df, indeps=[['dne']], dep=['logAge'], model=SVR())\n",
    "pd.DataFrame(r)"
   ]
  },
  {
   "cell_type": "markdown",
   "metadata": {},
   "source": [
    "### age x vector dne"
   ]
  },
  {
   "cell_type": "code",
   "execution_count": null,
   "metadata": {},
   "outputs": [],
   "source": [
    "pd.DataFrame(hist_descriptors[0.5].getSampleHistogramData(3)[0]).plot.bar()\n",
    "pd.DataFrame(hist_descriptors[0.5].getSampleHistogramData(3)[249]).plot.bar()\n",
    "pd.DataFrame(hist_descriptors[0.5].getSampleHistogramData(3)[498]).plot.bar();"
   ]
  },
  {
   "cell_type": "code",
   "execution_count": null,
   "metadata": {},
   "outputs": [],
   "source": [
    "ma=ModelAnalysis(data, hist_descriptors, 'dist_curv')"
   ]
  },
  {
   "cell_type": "code",
   "execution_count": null,
   "metadata": {},
   "outputs": [],
   "source": [
    "ma.twoParamPlot(1.0)"
   ]
  },
  {
   "cell_type": "code",
   "execution_count": null,
   "metadata": {},
   "outputs": [],
   "source": [
    "ma.modelForBins(3, None, 1.0, model=SVR(), normalize_dist=False)"
   ]
  },
  {
   "cell_type": "code",
   "execution_count": null,
   "metadata": {},
   "outputs": [],
   "source": [
    "ma.modelForBins(3, [[0, 2]], 1.0)"
   ]
  },
  {
   "cell_type": "code",
   "execution_count": null,
   "metadata": {},
   "outputs": [],
   "source": [
    "ma.modelForBins(3, [[0, 1]], 1.0)"
   ]
  },
  {
   "cell_type": "code",
   "execution_count": null,
   "metadata": {},
   "outputs": [],
   "source": [
    "ma.plotRmsePerBins(list(ma.binsRmse(2.0)))"
   ]
  },
  {
   "cell_type": "code",
   "execution_count": null,
   "metadata": {},
   "outputs": [],
   "source": [
    "ma.plotRmsePerBins(list(ma.binsRmse(1.0, model=SVR())))"
   ]
  },
  {
   "cell_type": "code",
   "execution_count": null,
   "metadata": {},
   "outputs": [],
   "source": [
    "ma.plotRmsePerBins(list(ma.binsRmse(model=LinearSVR())))"
   ]
  },
  {
   "cell_type": "code",
   "execution_count": null,
   "metadata": {},
   "outputs": [],
   "source": [
    "ma.compareMethods(2.0)"
   ]
  },
  {
   "cell_type": "code",
   "execution_count": null,
   "metadata": {},
   "outputs": [],
   "source": [
    "ma.compareMethods(1.0)"
   ]
  },
  {
   "cell_type": "code",
   "execution_count": null,
   "metadata": {},
   "outputs": [],
   "source": [
    "ma.compareMethods(0.5)"
   ]
  },
  {
   "cell_type": "markdown",
   "metadata": {},
   "source": [
    "## Neural network"
   ]
  },
  {
   "cell_type": "code",
   "execution_count": null,
   "metadata": {},
   "outputs": [],
   "source": [
    "from tensorflow import keras\n",
    "from sklearn.model_selection import cross_val_score, train_test_split\n",
    "from sklearn.metrics import mean_squared_error\n",
    "\n",
    "from projects.auricular.ann import buildModel, evaluateModel"
   ]
  },
  {
   "cell_type": "code",
   "execution_count": null,
   "metadata": {},
   "outputs": [],
   "source": [
    "dist=1.0\n",
    "bins=10\n",
    "\n",
    "Y = pd.DataFrame([np.log(float(data1['age'])) for data1 in data]).values\n",
    "X = pd.DataFrame(ma.hist_descriptors[dist].getSampleHistogram2dData(bins, True, False)).values\n",
    "#X = pd.DataFrame(hist_descriptors[dist].getSampleHistogramData(bins)).values"
   ]
  },
  {
   "cell_type": "code",
   "execution_count": null,
   "metadata": {},
   "outputs": [],
   "source": [
    "root_logdir = os.path.join(os.curdir, \"mylogs\")\n",
    "run_logdir = os.path.join(root_logdir, time.strftime(\"run_%Y_%m_%d_%H_%M_%S\"))"
   ]
  },
  {
   "cell_type": "code",
   "execution_count": null,
   "metadata": {},
   "outputs": [],
   "source": [
    "X_train, X_validate_test, y_train, y_validate_test = train_test_split(X, Y,\n",
    "                                                                      test_size=0.2,\n",
    "                                                                      random_state=None)\n",
    "X_validate, X_test, y_validate, y_test = train_test_split(X_validate_test,\n",
    "                                                          y_validate_test,\n",
    "                                                          test_size=0.5,\n",
    "                                                          random_state=None)\n",
    "\n",
    "model = buildModel(n_inputs=X_train.shape[1],\n",
    "                   n_hidden_layers=2,\n",
    "                   n_neurons=X_train.shape[1],\n",
    "                   learning_rate=0.00005)\n",
    "model.fit(X_train, y_train,\n",
    "          use_multiprocessing=True,\n",
    "          workers=8,\n",
    "          epochs=1000,\n",
    "          batch_size=10,\n",
    "          callbacks=[keras.callbacks.EarlyStopping(patience=100),\n",
    "                     keras.callbacks.TensorBoard(run_logdir)],\n",
    "          validation_data=(X_test, y_test))"
   ]
  },
  {
   "cell_type": "code",
   "execution_count": null,
   "metadata": {},
   "outputs": [],
   "source": [
    "predictions = model.predict(X_test)\n",
    "np.sqrt(mean_squared_error(np.exp(predictions), np.exp(y_test)))"
   ]
  },
  {
   "cell_type": "code",
   "execution_count": null,
   "metadata": {},
   "outputs": [],
   "source": [
    "model.evaluate(X_test, y_test)"
   ]
  },
  {
   "cell_type": "code",
   "execution_count": null,
   "metadata": {},
   "outputs": [],
   "source": [
    "X = pd.DataFrame(hist_descriptors[dist].getSampleHistogramData(bins)).values\n",
    "result_curv = evaluateModel(X, Y)"
   ]
  },
  {
   "cell_type": "code",
   "execution_count": null,
   "metadata": {},
   "outputs": [],
   "source": [
    "X = pd.DataFrame(ma.hist_descriptors[dist].getSampleHistogram2dData(bins, True, False)).values\n",
    "result_curv_dist = evaluateModel(X, Y)"
   ]
  },
  {
   "cell_type": "code",
   "execution_count": null,
   "metadata": {},
   "outputs": [],
   "source": [
    "rmse, predicted, predicted_indices = result_curv #_dist\n",
    "rmse"
   ]
  },
  {
   "cell_type": "code",
   "execution_count": null,
   "metadata": {},
   "outputs": [],
   "source": [
    "# 10 x 10-fold CV\n",
    "r=[]\n",
    "for i in range(10):\n",
    "    X = pd.DataFrame(ma.hist_descriptors[dist].getSampleHistogram2dData(bins, True, False)).values\n",
    "    result_curv_dist = evaluateModel(X, Y)\n",
    "    rmse, predicted, predicted_indices = result_curv_dist\n",
    "    r+=[rmse]\n",
    "np.mean(r)"
   ]
  },
  {
   "cell_type": "code",
   "execution_count": null,
   "metadata": {},
   "outputs": [],
   "source": [
    "fig, ax = plt.subplots(figsize=(15,15))\n",
    "plt.scatter(np.exp(Y[predicted_indices.astype(int)]), np.exp(predicted))\n",
    "plt.xlabel(\"actual\")\n",
    "plt.ylabel(\"predicted\")\n",
    "plt.plot([20, 100], [20, 100], color=\"black\", linewidth=1);"
   ]
  }
 ],
 "metadata": {
  "kernelspec": {
   "display_name": "Python 3",
   "language": "python",
   "name": "python3"
  },
  "language_info": {
   "codemirror_mode": {
    "name": "ipython",
    "version": 3
   },
   "file_extension": ".py",
   "mimetype": "text/x-python",
   "name": "python",
   "nbconvert_exporter": "python",
   "pygments_lexer": "ipython3",
   "version": "3.8.5"
  }
 },
 "nbformat": 4,
 "nbformat_minor": 4
}
