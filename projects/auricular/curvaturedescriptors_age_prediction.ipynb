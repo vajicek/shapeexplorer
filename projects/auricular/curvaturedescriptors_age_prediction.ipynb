{
 "cells": [
  {
   "cell_type": "markdown",
   "metadata": {},
   "source": [
    "# Auricular shape analysis - age prediction"
   ]
  },
  {
   "cell_type": "code",
   "execution_count": null,
   "metadata": {},
   "outputs": [],
   "source": [
    "%load_ext autoreload\n",
    "%autoreload 2\n",
    "\n",
    "import logging\n",
    "import os\n",
    "import sys\n",
    "import numpy as np\n",
    "import matplotlib.pyplot as plt\n",
    "import pandas as pd\n",
    "import trimesh\n",
    "from PIL import Image\n",
    "from scipy.ndimage import distance_transform_edt, binary_fill_holes"
   ]
  },
  {
   "cell_type": "code",
   "execution_count": null,
   "metadata": {},
   "outputs": [],
   "source": [
    "sys.path.append(\"/home/vajicek/src/aurikular/shapeexplorer\")\n",
    "\n",
    "from projects.auricular.projection import computeHeightmap, regularSampling, getDistanceToEdge\n",
    "from projects.auricular.curvaturedescriptors import CurvatureDescriptorsParams\n",
    "from projects.auricular.curvaturedescriptors import CurvatureDescriptors\n",
    "from projects.auricular.curvaturedescriptors import HistogramDescriptors\n",
    "from projects.auricular.common import getSample"
   ]
  },
  {
   "cell_type": "code",
   "execution_count": null,
   "metadata": {},
   "outputs": [],
   "source": [
    "input_data = os.path.expanduser(\"~/data/aurikularni_plocha_ply4/\")\n",
    "sample = list(getSample(input_data))\n",
    "params = CurvatureDescriptorsParams(\n",
    "    input_data=input_data,\n",
    "    sampling_method='regular',\n",
    "    dist=1.0,\n",
    "    sampling_rate=0.5,\n",
    "    sample_count=5000,\n",
    "    output='../../../output_499')\n",
    "cd = CurvatureDescriptors(params)"
   ]
  },
  {
   "cell_type": "code",
   "execution_count": null,
   "metadata": {},
   "outputs": [],
   "source": [
    "data = cd.getData()"
   ]
  },
  {
   "cell_type": "markdown",
   "metadata": {},
   "source": [
    "## Prediction"
   ]
  },
  {
   "cell_type": "markdown",
   "metadata": {},
   "source": [
    "### age x mean dne"
   ]
  },
  {
   "cell_type": "code",
   "execution_count": null,
   "metadata": {},
   "outputs": [],
   "source": [
    "del sys.modules['projects.auricular.analyze']\n",
    "from projects.auricular.analyze import evaluateAllModels\n",
    "from sklearn.linear_model import LinearRegression\n",
    "from sklearn.svm import SVR\n",
    "from sklearn.svm import LinearSVR"
   ]
  },
  {
   "cell_type": "code",
   "execution_count": null,
   "metadata": {},
   "outputs": [],
   "source": [
    "df = pd.DataFrame(data=[[\n",
    "                    float(data1['age']),\n",
    "                    np.log(float(data1['age'])),\n",
    "                    float(data1['dist'][1.0]['sampled_dne'])] for data1 in data],\n",
    "                  columns = ['age', 'logAge', 'dne'])\n",
    "\n",
    "r = evaluateAllModels(df, indeps=[['dne']], dep=['logAge'], model=LinearRegression())\n",
    "pd.DataFrame(r)"
   ]
  },
  {
   "cell_type": "markdown",
   "metadata": {},
   "source": [
    "### age x vector dne"
   ]
  },
  {
   "cell_type": "code",
   "execution_count": null,
   "metadata": {},
   "outputs": [],
   "source": [
    "pd.DataFrame(hist_descriptors[1.0].getSampleHistogramData(3)[0]).plot.bar()\n",
    "pd.DataFrame(hist_descriptors[1.0].getSampleHistogramData(3)[107]).plot.bar()\n",
    "pd.DataFrame(hist_descriptors[1.0].getSampleHistogramData(3)[207]).plot.bar()\n",
    "pd.DataFrame(hist_descriptors[1.0].getSampleHistogramData(3)[307]).plot.bar()"
   ]
  },
  {
   "cell_type": "code",
   "execution_count": null,
   "metadata": {},
   "outputs": [],
   "source": [
    "x=[a[0] for a in hist_descriptors[1.0].getSampleHistogramData(3)]\n",
    "y=[a[2] for a in hist_descriptors[1.0].getSampleHistogramData(3)]\n",
    "age=[float(data1['age']) for data1 in data]\n",
    "pd.DataFrame({'x': x, 'y': y, 'age': age}).plot.scatter(x='x', y='y', c='age', colormap='viridis')"
   ]
  },
  {
   "cell_type": "code",
   "execution_count": null,
   "metadata": {},
   "outputs": [],
   "source": [
    "def modelForBins(bins, indeps=None, dist=2.0, model=LinearRegression()):\n",
    "    df = pd.DataFrame(hist_descriptors[dist].getSampleHistogramData(bins))\n",
    "    df['age'] = [float(data1['age']) for data1 in data]\n",
    "    df['logAge'] = np.log(df['age'])\n",
    "    indeps = indeps or [list(range(bins))]   \n",
    "    r = evaluateAllModels(df, indeps=indeps, dep=['logAge'], model=model)\n",
    "    return pd.DataFrame(r)"
   ]
  },
  {
   "cell_type": "code",
   "execution_count": null,
   "metadata": {},
   "outputs": [],
   "source": [
    "modelForBins(3, [[0, 1, 2]], 1.0)"
   ]
  },
  {
   "cell_type": "code",
   "execution_count": null,
   "metadata": {},
   "outputs": [],
   "source": [
    "modelForBins(3, [[0,2]])"
   ]
  },
  {
   "cell_type": "code",
   "execution_count": null,
   "metadata": {},
   "outputs": [],
   "source": [
    "modelForBins(3, [[0, 1]])"
   ]
  },
  {
   "cell_type": "code",
   "execution_count": null,
   "metadata": {},
   "outputs": [],
   "source": [
    "def plotRmsePerBins(bins_rmse_list):\n",
    "    bins, rmses = list(zip(*bins_rmse_list))\n",
    "    df = pd.DataFrame({\n",
    "        'rmse': rmses,\n",
    "        'bins': bins})\n",
    "    df.plot(y='rmse', x='bins')\n",
    "    _ = plt.xticks(df['bins'])\n",
    "    \n",
    "def binsRmse(dist=1.0, model=LinearRegression()):\n",
    "    for bins in range(2, 20):\n",
    "        yield bins, modelForBins(bins, dist=dist, model=model)['rmse'][0]"
   ]
  },
  {
   "cell_type": "code",
   "execution_count": null,
   "metadata": {},
   "outputs": [],
   "source": [
    "plotRmsePerBins(list(binsRmse(2.0)))"
   ]
  },
  {
   "cell_type": "code",
   "execution_count": null,
   "metadata": {},
   "outputs": [],
   "source": [
    "plotRmsePerBins(list(binsRmse(1.0, model=SVR())))"
   ]
  },
  {
   "cell_type": "code",
   "execution_count": null,
   "metadata": {},
   "outputs": [],
   "source": [
    "plotRmsePerBins(list(binsRmse(model=LinearSVR())))"
   ]
  },
  {
   "cell_type": "code",
   "execution_count": null,
   "metadata": {},
   "outputs": [],
   "source": [
    "def compareMethods(dist=1.0):\n",
    "    lsvr_bins_rmse_list = list(binsRmse(dist=dist, model=LinearSVR()))\n",
    "    svr_bins_rmse_list = list(binsRmse(dist=dist, model=SVR()))\n",
    "    lr_bins_rmse_list = list(binsRmse(dist=dist, model=LinearRegression()))\n",
    "\n",
    "    df = pd.DataFrame({\n",
    "        'linear regression': list(zip(*lr_bins_rmse_list))[1],\n",
    "        'linear SVR': list(zip(*lsvr_bins_rmse_list))[1],\n",
    "        'SVR': list(zip(*svr_bins_rmse_list))[1],\n",
    "        'bins': list(zip(*svr_bins_rmse_list))[0]})\n",
    "    df.plot.line(x='bins')\n",
    "    _ = plt.xticks(df['bins'])"
   ]
  },
  {
   "cell_type": "code",
   "execution_count": null,
   "metadata": {},
   "outputs": [],
   "source": [
    "compareMethods(2.0)"
   ]
  },
  {
   "cell_type": "code",
   "execution_count": null,
   "metadata": {},
   "outputs": [],
   "source": [
    "compareMethods(1.0)"
   ]
  },
  {
   "cell_type": "code",
   "execution_count": null,
   "metadata": {},
   "outputs": [],
   "source": [
    "compareMethods(0.5)"
   ]
  },
  {
   "cell_type": "markdown",
   "metadata": {},
   "source": [
    "## Neural network"
   ]
  },
  {
   "cell_type": "code",
   "execution_count": null,
   "metadata": {},
   "outputs": [],
   "source": [
    "import tensorflow as tf\n",
    "from tensorflow import keras\n",
    "from pandas import read_csv\n",
    "from keras.models import Sequential\n",
    "from keras.layers import Dense\n",
    "from keras.wrappers.scikit_learn import KerasRegressor\n",
    "from sklearn.model_selection import cross_val_score, train_test_split\n",
    "from sklearn.model_selection import KFold\n",
    "from sklearn.preprocessing import StandardScaler\n",
    "from sklearn.pipeline import Pipeline\n",
    "from sklearn.metrics import mean_squared_error"
   ]
  },
  {
   "cell_type": "code",
   "execution_count": null,
   "metadata": {},
   "outputs": [],
   "source": [
    "bins = 14\n",
    "dist = 1.0\n",
    "\n",
    "def baselineModel():\n",
    "    model = keras.Sequential()\n",
    "    model.add(Dense(bins, input_dim=bins, kernel_initializer='normal', activation='relu'))\n",
    "    model.add(Dense(1, kernel_initializer='normal'))\n",
    "    model.compile(optimizer='adam', loss='mean_squared_error')\n",
    "    return model"
   ]
  },
  {
   "cell_type": "code",
   "execution_count": null,
   "metadata": {},
   "outputs": [],
   "source": [
    "X = pd.DataFrame(np.array(hist_descriptors[dist].getSampleHistogramData(bins))).values\n",
    "Y = pd.DataFrame([np.log(float(data1['age'])) for data1 in data]).values\n",
    "\n",
    "estimators = []\n",
    "#estimators.append(('standardize', StandardScaler()))\n",
    "estimators.append(('mlp', KerasRegressor(build_fn=baselineModel, epochs=1000, batch_size=10, verbose=0)))\n",
    "pipeline = Pipeline(estimators)"
   ]
  },
  {
   "cell_type": "code",
   "execution_count": null,
   "metadata": {},
   "outputs": [],
   "source": [
    "X_train, X_test, y_train, y_test = train_test_split(X, Y, test_size=0.2, random_state=None)\n",
    "pipeline.fit(X_train, y_train)\n",
    "predictions = pipeline.predict(X_test)\n",
    "np.sqrt(mean_squared_error(np.exp(predictions), np.exp(y_test)))"
   ]
  },
  {
   "cell_type": "code",
   "execution_count": null,
   "metadata": {},
   "outputs": [],
   "source": [
    "kf = KFold(n_splits=10, shuffle=True)\n",
    "fold_rmse = []\n",
    "for train_index, test_index in kf.split(X):\n",
    "    X_train = X[train_index]\n",
    "    X_test = X[test_index]\n",
    "    y_train = Y[train_index]\n",
    "    y_test = Y[test_index]\n",
    "    pipeline.fit(X_train, y_train)\n",
    "    predictions = pipeline.predict(X_test)\n",
    "    rmse = np.sqrt(mean_squared_error(np.exp(predictions), np.exp(y_test)))\n",
    "    print(rmse)\n",
    "    fold_rmse += [rmse]\n",
    "\n",
    "print(\"fold_rmse = %f\" % np.mean(fold_rmse))"
   ]
  }
 ],
 "metadata": {
  "kernelspec": {
   "display_name": "Python 3",
   "language": "python",
   "name": "python3"
  },
  "language_info": {
   "codemirror_mode": {
    "name": "ipython",
    "version": 3
   },
   "file_extension": ".py",
   "mimetype": "text/x-python",
   "name": "python",
   "nbconvert_exporter": "python",
   "pygments_lexer": "ipython3",
   "version": "3.8.5"
  }
 },
 "nbformat": 4,
 "nbformat_minor": 4
}
