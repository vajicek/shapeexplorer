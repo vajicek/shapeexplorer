{
 "cells": [
  {
   "cell_type": "markdown",
   "metadata": {},
   "source": [
    "# Auricular shape analysis - curvature descriptors"
   ]
  },
  {
   "cell_type": "code",
   "execution_count": null,
   "metadata": {},
   "outputs": [],
   "source": [
    "%load_ext autoreload\n",
    "%autoreload 2\n",
    "\n",
    "import logging\n",
    "import os\n",
    "import sys\n",
    "import numpy as np\n",
    "import matplotlib.pyplot as plt\n",
    "import matplotlib.colors as mcolors\n",
    "import pandas as pd\n",
    "import trimesh\n",
    "from PIL import Image\n",
    "from scipy.ndimage import distance_transform_edt, binary_fill_holes"
   ]
  },
  {
   "cell_type": "code",
   "execution_count": null,
   "metadata": {},
   "outputs": [],
   "source": [
    "sys.path.append(\"/home/vajicek/src/aurikular/shapeexplorer\")\n",
    "\n",
    "from projects.auricular.projection import computeHeightmap, regularSampling, getDistanceToEdge\n",
    "from projects.auricular.curvaturedescriptors import CurvatureDescriptorsParams\n",
    "from projects.auricular.curvaturedescriptors import CurvatureDescriptors\n",
    "from projects.auricular.curvaturedescriptors import HistogramDescriptors\n",
    "from projects.auricular.common import getSample"
   ]
  },
  {
   "cell_type": "code",
   "execution_count": null,
   "metadata": {},
   "outputs": [],
   "source": [
    "input_data = os.path.expanduser(\"~/data/aurikularni_plocha_ply5/\")\n",
    "sample = list(getSample(input_data))\n",
    "params = CurvatureDescriptorsParams(\n",
    "    input_data=input_data,\n",
    "    sampling_method='regular',\n",
    "    dist=2.0,\n",
    "    sampling_rate=0.5,\n",
    "    sample_count=5000,\n",
    "    output='../../../output_812')\n",
    "cd = CurvatureDescriptors(params)"
   ]
  },
  {
   "cell_type": "markdown",
   "metadata": {},
   "source": [
    "## Compute descriptors"
   ]
  },
  {
   "cell_type": "code",
   "execution_count": null,
   "metadata": {},
   "outputs": [],
   "source": [
    "logging.basicConfig(level=logging.INFO)\n",
    "cd.newAnalysis()\n",
    "cd.computeDescriptors()"
   ]
  },
  {
   "cell_type": "code",
   "execution_count": null,
   "metadata": {},
   "outputs": [],
   "source": [
    "data = cd.getData()"
   ]
  },
  {
   "cell_type": "markdown",
   "metadata": {},
   "source": [
    "### Distance"
   ]
  },
  {
   "cell_type": "code",
   "execution_count": null,
   "metadata": {},
   "outputs": [],
   "source": [
    "heightmap = computeHeightmap(trimesh.load_mesh(sample[10]['filename']), 1.0)\n",
    "plt.imshow(heightmap)\n",
    "plt.show()\n",
    "plt.imshow(getDistanceToEdge(heightmap > np.min(heightmap)))"
   ]
  },
  {
   "cell_type": "code",
   "execution_count": null,
   "metadata": {},
   "outputs": [],
   "source": [
    "bins = 15\n",
    "normalize = False\n",
    "\n",
    "hd = HistogramDescriptors(data, 0.5)\n",
    "range2d = [[-10, 0],[0, 1 if normalize else 32]]\n",
    "_ = plt.hist2d(*hd.getCurveDistFeatures(0, normalize), bins=bins, range=range2d)\n",
    "plt.show()\n",
    "_ = plt.hist2d(*hd.getCurveDistFeatures(811, normalize), bins=bins, range=range2d)"
   ]
  },
  {
   "cell_type": "markdown",
   "metadata": {},
   "source": [
    "## Sample age distribution"
   ]
  },
  {
   "cell_type": "code",
   "execution_count": null,
   "metadata": {},
   "outputs": [],
   "source": [
    "age=[float(specimen['age']) for specimen in sample]\n",
    "plt.hist(age)\n",
    "plt.show()\n",
    "pd.DataFrame(age).describe()"
   ]
  },
  {
   "cell_type": "markdown",
   "metadata": {},
   "source": [
    "## Reduced sample age distribution"
   ]
  },
  {
   "cell_type": "code",
   "execution_count": null,
   "metadata": {},
   "outputs": [],
   "source": [
    "reduced_sample = list(getSample(os.path.expanduser(\"~/data/aurikularni_plocha_ply2/\")))\n",
    "reduced_sample_age = [float(specimen['age']) for specimen in reduced_sample]\n",
    "plt.hist(reduced_sample_age)\n",
    "plt.show()\n",
    "pd.DataFrame(reduced_sample_age).describe()"
   ]
  },
  {
   "cell_type": "markdown",
   "metadata": {},
   "source": [
    "## Data viewer"
   ]
  },
  {
   "cell_type": "code",
   "execution_count": null,
   "metadata": {},
   "outputs": [],
   "source": [
    "trimesh.load(sample[3]['filename']).show()"
   ]
  },
  {
   "cell_type": "code",
   "execution_count": null,
   "metadata": {},
   "outputs": [],
   "source": [
    "plt.imshow(Image.open(os.path.join('../../../output', sample[0]['basename'] + '_sample_map.png'), 'r'))"
   ]
  },
  {
   "cell_type": "code",
   "execution_count": null,
   "metadata": {},
   "outputs": [],
   "source": [
    "plt.imshow(Image.open(os.path.join('../../../output', sample[307]['basename'] + '_sample_map.png'), 'r'))"
   ]
  },
  {
   "cell_type": "markdown",
   "metadata": {},
   "source": [
    "## Load computed data"
   ]
  },
  {
   "cell_type": "code",
   "execution_count": null,
   "metadata": {},
   "outputs": [],
   "source": [
    "data = cd.getData()\n",
    "hist_descriptors = {\n",
    "    0.5: HistogramDescriptors(data, 0.5),\n",
    "    1.0: HistogramDescriptors(data, 1.0),\n",
    "    2.0: HistogramDescriptors(data, 2.0)\n",
    "}"
   ]
  },
  {
   "cell_type": "code",
   "execution_count": null,
   "metadata": {},
   "outputs": [],
   "source": [
    "data[0]['dist'][2.0]['curvature'].mean()"
   ]
  },
  {
   "cell_type": "code",
   "execution_count": null,
   "metadata": {},
   "outputs": [],
   "source": [
    "data[0]['dist'][2.0]['sampled_dne']"
   ]
  },
  {
   "cell_type": "code",
   "execution_count": null,
   "metadata": {},
   "outputs": [],
   "source": [
    "data[0]"
   ]
  },
  {
   "cell_type": "code",
   "execution_count": null,
   "metadata": {},
   "outputs": [],
   "source": [
    "df = pd.DataFrame(data=[[\n",
    "                    data1['name'],\n",
    "                    data1['subset'],\n",
    "                    data1['type'],\n",
    "                    data1['side'],\n",
    "                    data1['sex'],\n",
    "                    float(data1['age']),\n",
    "                    float(data1['dist'][2.0]['sampled_dne']),\n",
    "                    np.log(float(data1['dist'][2.0]['sampled_dne']))] for data1 in data],\n",
    "                  columns = ['name', 'subset', 'type', 'side', 'sex', 'age', 'meandne', 'log(meandne)'])\n",
    "\n",
    "df.head()"
   ]
  },
  {
   "cell_type": "code",
   "execution_count": null,
   "metadata": {},
   "outputs": [],
   "source": [
    "df['age'].hist();"
   ]
  },
  {
   "cell_type": "code",
   "execution_count": null,
   "metadata": {},
   "outputs": [],
   "source": [
    "df.groupby(['subset'])['subset'].describe()[[\"count\"]]"
   ]
  },
  {
   "cell_type": "code",
   "execution_count": null,
   "metadata": {},
   "outputs": [],
   "source": [
    "cols = {a[0]: a[1] for a in zip(df['subset'].unique(), mcolors.BASE_COLORS.keys())}\n",
    "\n",
    "fig, ax = plt.subplots(figsize=(15,15))\n",
    "for subset, color in cols.items():\n",
    "    df1 = df[df['subset']==subset]\n",
    "    ax.scatter(df1['age'], df1['log(meandne)'], c=color, label=subset)\n",
    "ax.legend()\n",
    "df[['age','log(meandne)','name']].apply(lambda x: ax.text(*x), axis=1)\n",
    "plt.xlabel(\"age\")\n",
    "plt.ylabel(\"log(meandne)\");"
   ]
  },
  {
   "cell_type": "code",
   "execution_count": null,
   "metadata": {},
   "outputs": [],
   "source": [
    "df.plot.scatter(x='age', y='meandne')"
   ]
  }
 ],
 "metadata": {
  "kernelspec": {
   "display_name": "Python 3",
   "language": "python",
   "name": "python3"
  },
  "language_info": {
   "codemirror_mode": {
    "name": "ipython",
    "version": 3
   },
   "file_extension": ".py",
   "mimetype": "text/x-python",
   "name": "python",
   "nbconvert_exporter": "python",
   "pygments_lexer": "ipython3",
   "version": "3.8.5"
  }
 },
 "nbformat": 4,
 "nbformat_minor": 4
}
