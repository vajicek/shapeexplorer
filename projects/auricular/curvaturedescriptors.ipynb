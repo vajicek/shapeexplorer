{
 "cells": [
  {
   "cell_type": "markdown",
   "metadata": {},
   "source": [
    "# Auricular shape analysis - curvature descriptors"
   ]
  },
  {
   "cell_type": "code",
   "execution_count": null,
   "metadata": {},
   "outputs": [],
   "source": [
    "import logging\n",
    "import os\n",
    "import sys\n",
    "import numpy as np\n",
    "import matplotlib.pyplot as plt\n",
    "import pandas as pd\n",
    "import trimesh\n",
    "from PIL import Image"
   ]
  },
  {
   "cell_type": "code",
   "execution_count": null,
   "metadata": {},
   "outputs": [],
   "source": [
    "# Import descriptor extraction tools\n",
    "del sys.modules['projects.auricular.curvaturedescriptors']\n",
    "del sys.modules['projects.auricular.common']\n",
    "del sys.modules['base.common']\n",
    "from projects.auricular.curvaturedescriptors import CurvatureDescriptorsParams\n",
    "from projects.auricular.curvaturedescriptors import CurvatureDescriptors\n",
    "from projects.auricular.curvaturedescriptors import HistogramDescriptors\n",
    "from projects.auricular.common import get_sample"
   ]
  },
  {
   "cell_type": "code",
   "execution_count": null,
   "metadata": {},
   "outputs": [],
   "source": [
    "del sys.modules['projects.auricular.projection']"
   ]
  },
  {
   "cell_type": "code",
   "execution_count": null,
   "metadata": {},
   "outputs": [],
   "source": [
    "input_data = os.path.expanduser(\"~/data/aurikularni_plocha_ply3/\")\n",
    "sample = list(get_sample(input_data))\n",
    "cd = CurvatureDescriptors(CurvatureDescriptorsParams(\n",
    "    input_data=input_data,\n",
    "    sampling_method='regular',\n",
    "    dist=1.0,\n",
    "    sampling_rate=0.5,\n",
    "    sample_count=5000,\n",
    "    output='../../../output'))"
   ]
  },
  {
   "cell_type": "markdown",
   "metadata": {},
   "source": [
    "## Compute descriptors"
   ]
  },
  {
   "cell_type": "code",
   "execution_count": null,
   "metadata": {
    "scrolled": true
   },
   "outputs": [],
   "source": [
    "logging.basicConfig(level=logging.INFO)\n",
    "cd.newAnalysis()\n",
    "cd.computeDescriptors()"
   ]
  },
  {
   "cell_type": "markdown",
   "metadata": {},
   "source": [
    "## Sample age distribution"
   ]
  },
  {
   "cell_type": "code",
   "execution_count": null,
   "metadata": {},
   "outputs": [],
   "source": [
    "age=[float(specimen['age']) for specimen in sample]\n",
    "plt.hist(age)\n",
    "plt.show()\n",
    "pd.DataFrame(age).describe()"
   ]
  },
  {
   "cell_type": "markdown",
   "metadata": {},
   "source": [
    "## Reduced sample age distribution"
   ]
  },
  {
   "cell_type": "code",
   "execution_count": null,
   "metadata": {},
   "outputs": [],
   "source": [
    "reduced_sample = list(get_sample(os.path.expanduser(\"~/data/aurikularni_plocha_ply2/\")))\n",
    "reduced_sample_age = [float(specimen['age']) for specimen in reduced_sample]\n",
    "plt.hist(reduced_sample_age)\n",
    "plt.show()\n",
    "pd.DataFrame(reduced_sample_age).describe()"
   ]
  },
  {
   "cell_type": "markdown",
   "metadata": {},
   "source": [
    "## Data viewer"
   ]
  },
  {
   "cell_type": "code",
   "execution_count": null,
   "metadata": {},
   "outputs": [],
   "source": [
    "trimesh.load(sample[3]['filename']).show()"
   ]
  },
  {
   "cell_type": "code",
   "execution_count": null,
   "metadata": {},
   "outputs": [],
   "source": [
    "plt.imshow(Image.open(os.path.join('../../../output', sample[0]['basename'] + '_sample_map.png'), 'r'))"
   ]
  },
  {
   "cell_type": "code",
   "execution_count": null,
   "metadata": {},
   "outputs": [],
   "source": [
    "plt.imshow(Image.open(os.path.join('../../../output', sample[307]['basename'] + '_sample_map.png'), 'r'))"
   ]
  },
  {
   "cell_type": "code",
   "execution_count": null,
   "metadata": {},
   "outputs": [],
   "source": [
    "pd.DataFrame(hist_descriptors_1.getSampleHistogramData(30)[0]).plot.bar()"
   ]
  },
  {
   "cell_type": "code",
   "execution_count": null,
   "metadata": {},
   "outputs": [],
   "source": [
    "pd.DataFrame(hist_descriptors_1.getSampleHistogramData(30)[307]).plot.bar()"
   ]
  },
  {
   "cell_type": "markdown",
   "metadata": {},
   "source": [
    "## Load computed data"
   ]
  },
  {
   "cell_type": "code",
   "execution_count": null,
   "metadata": {},
   "outputs": [],
   "source": [
    "data = cd.getData()\n",
    "hist_descriptors = {\n",
    "    1.0: HistogramDescriptors(data, 1.0),\n",
    "    2.0: HistogramDescriptors(data, 2.0)\n",
    "}"
   ]
  },
  {
   "cell_type": "code",
   "execution_count": null,
   "metadata": {},
   "outputs": [],
   "source": [
    "data[0]['dist'][2.0]['curvature'].mean()"
   ]
  },
  {
   "cell_type": "code",
   "execution_count": null,
   "metadata": {},
   "outputs": [],
   "source": [
    "data[0]['dist'][2.0]['sampled_dne']"
   ]
  },
  {
   "cell_type": "code",
   "execution_count": null,
   "metadata": {},
   "outputs": [],
   "source": [
    "data[0]"
   ]
  },
  {
   "cell_type": "code",
   "execution_count": null,
   "metadata": {},
   "outputs": [],
   "source": [
    "df = pd.DataFrame(data=[[\n",
    "                    data1['name'],\n",
    "                    data1['subset'],\n",
    "                    data1['type'],\n",
    "                    data1['side'],\n",
    "                    data1['sex'],\n",
    "                    float(data1['age']),\n",
    "                    float(data1['dist'][2.0]['sampled_dne']),\n",
    "                    np.log(float(data1['dist'][2.0]['sampled_dne']))] for data1 in data],\n",
    "                  columns = ['name', 'subset', 'type', 'side', 'sex', 'age', 'meandne', 'log(meandne)'])\n",
    "\n",
    "df.head()"
   ]
  },
  {
   "cell_type": "code",
   "execution_count": null,
   "metadata": {},
   "outputs": [],
   "source": [
    "df['age'].hist()"
   ]
  },
  {
   "cell_type": "code",
   "execution_count": null,
   "metadata": {},
   "outputs": [],
   "source": [
    "df.groupby(['subset'])['subset'].describe()[[\"count\"]]"
   ]
  },
  {
   "cell_type": "code",
   "execution_count": null,
   "metadata": {},
   "outputs": [],
   "source": [
    "cols={a[0]:a[1] for a in zip(df['subset'].unique(),mcolors.BASE_COLORS.keys())}\n",
    "\n",
    "fig, ax = plt.subplots(figsize=(15,10))\n",
    "for subset, color in cols.items():\n",
    "    df1 = df[df['subset']==subset]\n",
    "    ax.scatter(df1['age'], df1['log(meandne)'], c=color, label=subset)\n",
    "ax.legend()\n",
    "_ = sub[['age','log(meandne)','name']].apply(lambda x: ax.text(*x), axis=1)"
   ]
  },
  {
   "cell_type": "code",
   "execution_count": null,
   "metadata": {},
   "outputs": [],
   "source": [
    "df.plot.scatter(x='age', y='meandne')"
   ]
  },
  {
   "cell_type": "markdown",
   "metadata": {},
   "source": [
    "## Prediction"
   ]
  },
  {
   "cell_type": "markdown",
   "metadata": {},
   "source": [
    "### age x mean dne"
   ]
  },
  {
   "cell_type": "code",
   "execution_count": null,
   "metadata": {},
   "outputs": [],
   "source": [
    "del sys.modules['projects.auricular.analyze']\n",
    "from projects.auricular.analyze import evaluateAllModels\n",
    "from sklearn.linear_model import LinearRegression\n",
    "\n",
    "df = pd.DataFrame(data=[[\n",
    "                    float(data1['age']),\n",
    "                    np.log(float(data1['age'])),\n",
    "                    float(data1['dist'][2.0]['sampled_dne'])] for data1 in data],\n",
    "                  columns = ['age', 'logAge', 'dne'])\n",
    "\n",
    "r = evaluateAllModels(df, indeps=[['dne']], dep=['logAge'], model=LinearRegression())\n",
    "pd.DataFrame(r)"
   ]
  },
  {
   "cell_type": "markdown",
   "metadata": {},
   "source": [
    "### age x vector dne"
   ]
  },
  {
   "cell_type": "code",
   "execution_count": null,
   "metadata": {},
   "outputs": [],
   "source": [
    "pd.DataFrame(hist_descriptors.getSampleHistogramData(3)[0]).plot.bar()\n",
    "pd.DataFrame(hist_descriptors.getSampleHistogramData(3)[107]).plot.bar()\n",
    "pd.DataFrame(hist_descriptors.getSampleHistogramData(3)[207]).plot.bar()\n",
    "pd.DataFrame(hist_descriptors.getSampleHistogramData(3)[307]).plot.bar()"
   ]
  },
  {
   "cell_type": "code",
   "execution_count": null,
   "metadata": {},
   "outputs": [],
   "source": [
    "x=[a[0] for a in hist_descriptors[1.0].getSampleHistogramData(3)]\n",
    "y=[a[2] for a in hist_descriptors[1.0].getSampleHistogramData(3)]\n",
    "age=[float(data1['age']) for data1 in data]\n",
    "pd.DataFrame({'x': x, 'y': y, 'age': age}).plot.scatter(x='x', y='y', c='age', colormap='viridis')"
   ]
  },
  {
   "cell_type": "code",
   "execution_count": null,
   "metadata": {},
   "outputs": [],
   "source": [
    "def model_for_bins(bins, dist=1.0, model=LinearRegression()):\n",
    "    df = pd.DataFrame(hist_descriptors[dist].getSampleHistogramData(bins))\n",
    "    df['age'] = [float(data1['age']) for data1 in data]\n",
    "    df['logAge'] = np.log(df['age'])\n",
    "\n",
    "    r = evaluateAllModels(df, indeps=[list(range(bins))], dep=['logAge'], model=model)\n",
    "    return pd.DataFrame(r)\n",
    "\n",
    "model_for_bins(4)"
   ]
  },
  {
   "cell_type": "code",
   "execution_count": null,
   "metadata": {},
   "outputs": [],
   "source": [
    "df = pd.DataFrame(hist_descriptors.getSampleHistogramData(3))\n",
    "df['age'] = [float(data1['age']) for data1 in data]\n",
    "df['logAge'] = np.log(df['age'])\n",
    "\n",
    "pd.DataFrame(evaluateAllModels(df, indeps=[[0,2]], dep=['logAge'], model=LinearRegression()))"
   ]
  },
  {
   "cell_type": "code",
   "execution_count": null,
   "metadata": {},
   "outputs": [],
   "source": [
    "pd.DataFrame(evaluateAllModels(df, indeps=[[0,1,2]], dep=['logAge'], model=LinearRegression()))"
   ]
  },
  {
   "cell_type": "code",
   "execution_count": null,
   "metadata": {},
   "outputs": [],
   "source": [
    "def plot_rmse_per_bins(bins_rmse_list):\n",
    "    bins, rmses = list(zip(*bins_rmse_list))\n",
    "    df = pd.DataFrame({\n",
    "        'rmse': rmses,\n",
    "        'bins': bins})\n",
    "    df.plot(y='rmse', x='bins')\n",
    "    _ = plt.xticks(df['bins'])\n",
    "    \n",
    "def bins_rmse(dist=1.0, model=LinearRegression()):\n",
    "    for bins in range(2, 20):\n",
    "        yield bins, model_for_bins(bins, dist, model)['rmse'][0]"
   ]
  },
  {
   "cell_type": "code",
   "execution_count": null,
   "metadata": {},
   "outputs": [],
   "source": [
    "from sklearn.linear_model import LinearRegression\n",
    "lr_bins_rmse_list = list(bins_rmse())\n",
    "plot_rmse_per_bins(lr_bins_rmse_list)"
   ]
  },
  {
   "cell_type": "code",
   "execution_count": null,
   "metadata": {},
   "outputs": [],
   "source": [
    "from sklearn.svm import SVR\n",
    "svr_bins_rmse_list = list(bins_rmse(model=SVR()))\n",
    "plot_rmse_per_bins(svr_bins_rmse_list)"
   ]
  },
  {
   "cell_type": "code",
   "execution_count": null,
   "metadata": {},
   "outputs": [],
   "source": [
    "from sklearn.svm import LinearSVR\n",
    "lsvr_bins_rmse_list = list(bins_rmse(model=LinearSVR()))\n",
    "plot_rmse_per_bins(lsvr_bins_rmse_list)"
   ]
  },
  {
   "cell_type": "code",
   "execution_count": null,
   "metadata": {},
   "outputs": [],
   "source": [
    "def compareMethods(dist=1.0):\n",
    "    lsvr_bins_rmse_list = list(bins_rmse(dist=dist, model=LinearSVR()))\n",
    "    svr_bins_rmse_list = list(bins_rmse(dist=dist, model=SVR()))\n",
    "    lr_bins_rmse_list = list(bins_rmse(dist=dist, model=LinearRegression()))\n",
    "\n",
    "    df = pd.DataFrame({\n",
    "        'linear regression': list(zip(*lr_bins_rmse_list))[1],\n",
    "        'linear SVR': list(zip(*lsvr_bins_rmse_list))[1],\n",
    "        'SVR': list(zip(*svr_bins_rmse_list))[1],\n",
    "        'bins': list(zip(*svr_bins_rmse_list))[0]})\n",
    "    df.plot.line(x='bins')\n",
    "    _ = plt.xticks(df['bins'])"
   ]
  },
  {
   "cell_type": "code",
   "execution_count": null,
   "metadata": {},
   "outputs": [],
   "source": [
    "compareMethods(2.0)"
   ]
  },
  {
   "cell_type": "markdown",
   "metadata": {},
   "source": [
    "compareMethods(1.0)"
   ]
  },
  {
   "cell_type": "code",
   "execution_count": null,
   "metadata": {},
   "outputs": [],
   "source": [
    "a = hist_descriptors.getSampleHistogramData(10)\n",
    "plt.imshow(np.log(a), interpolation='none')\n",
    "plt.show()\n",
    "plt.scatter(age, np.log(dne))\n",
    "plt.show()\n",
    "plt.scatter(age, np.log(a[:,3]))\n",
    "plt.show()\n",
    "plt.scatter(age, np.log(a[:,8]))\n",
    "plt.show()"
   ]
  }
 ],
 "metadata": {
  "kernelspec": {
   "display_name": "Python 3",
   "language": "python",
   "name": "python3"
  },
  "language_info": {
   "codemirror_mode": {
    "name": "ipython",
    "version": 3
   },
   "file_extension": ".py",
   "mimetype": "text/x-python",
   "name": "python",
   "nbconvert_exporter": "python",
   "pygments_lexer": "ipython3",
   "version": "3.8.5"
  }
 },
 "nbformat": 4,
 "nbformat_minor": 4
}
